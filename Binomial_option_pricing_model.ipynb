{
 "cells": [
  {
   "cell_type": "markdown",
   "id": "411db854",
   "metadata": {},
   "source": [
    "#### Binomial Option Pricing Model"
   ]
  },
  {
   "cell_type": "markdown",
   "id": "ed868f91",
   "metadata": {},
   "source": [
    "Before talking about binomial option pricing model, let's do a small recap on how we can derive the price of an option in general. So basically we can do it in three ways using:\n",
    "- Binomial option pricing model\n",
    "- Black-Scholes model\n",
    "- Monte Carlo method"
   ]
  },
  {
   "cell_type": "markdown",
   "id": "611ec94e",
   "metadata": {},
   "source": [
    "The binomial option pricing model is a tool for calculating the theoretical value of options. It is relatively simple to understand and use, especially compared to more complicated models like the Black-Scholes model. The binomial model is based on the idea that it should be impossible to make a risk-free profit through arbitrage. This means that the price of an option should reflect the balance of potential outcomes and the probabilities of those outcomes occurring. Despite its simplicity, the binomial model can be used to price a wide range of options and is often used as a benchmark against which more complex models are compared."
   ]
  },
  {
   "cell_type": "markdown",
   "id": "6c6eacce",
   "metadata": {},
   "source": [
    "In this particular mini project we use Python tools to implement a T-period binomial option pricing model and compare it to the Monte Carlo method."
   ]
  },
  {
   "cell_type": "markdown",
   "id": "bc9644c3",
   "metadata": {},
   "source": [
    "The stock starts out at a price S at time 0 and, at every time period can\n",
    "have a gross return of either $R_u$ or $R_d$ , with $R_u > 1 > R_d$. under assumption, the interest\n",
    "rate is zero and $R_u$ and $R_d$ are the same every period. We try to price a call option with strike price $K$."
   ]
  },
  {
   "cell_type": "markdown",
   "id": "7a40d0e1",
   "metadata": {},
   "source": [
    "Let’s start with the explicit method: we write a function that generate a (T + 1) by (T + 1) matrix, where the upper triangle contains the prices at\n",
    "each time (columns) in each of the respective states of the world (rows). Start with period T and then calculate the prices at time T − 1.\n",
    "By backward induction, the top left entry gives the call\n",
    "price at time 0."
   ]
  },
  {
   "cell_type": "code",
   "execution_count": 1,
   "id": "da680041",
   "metadata": {},
   "outputs": [],
   "source": [
    "import numpy as np\n",
    "import numpy.random as ran\n",
    "import sympy as sym\n",
    "from sympy.matrices import Matrix, zeros\n",
    "from IPython.display import display, Markdown\n",
    "import matplotlib.pyplot as plt\n",
    "import matplotlib.animation as animation\n",
    "\n",
    "\n",
    "from matplotlib import style\n",
    "style.use('dark_background')"
   ]
  },
  {
   "cell_type": "markdown",
   "id": "ba7a537b",
   "metadata": {},
   "source": [
    "The risk neutral probability (q) is given by: $\\frac{(e^{r*T}-R_d)}{(R_u-R_d)}$"
   ]
  },
  {
   "cell_type": "code",
   "execution_count": 9,
   "id": "e6c1a3f5",
   "metadata": {},
   "outputs": [],
   "source": [
    "def price_matrices(T, R_u, R_d, S, K, q=None, r=0):\n",
    "    if not q: q = (np.e**(r*T)-R_d)/(R_u-R_d)\n",
    "        \n",
    "    # first, initialize (T+1) x (T+1) matrix as a zero-matrix\n",
    "    s_matrix = zeros(T+1)\n",
    "    c_matrix = zeros(T+1)\n",
    "    \n",
    "    for t in range(T, -1, -1): # t corresponds to the column, we start at T and iteratively go back in time\n",
    "        for w in range(t+1): # w corresponds to the row\n",
    "            # first, create a binomial tree as in the lecture.\n",
    "            # given a column representing time t, it must hold that:\n",
    "            # the first row in the column must always have (R_u)^t * (R_d)^0 * S\n",
    "            # the next rows then have decending exponents of R_u and ascending exponents of R_d\n",
    "            # the last row must always have (R_u)^0 * (R_d)^t * S\n",
    "            s_matrix[w, t] = R_u**(t-w)*R_d**(w)*S\n",
    "            \n",
    "            # now create a matrix for the option prices\n",
    "            if t==T: # start by calculating option prices for t=T\n",
    "                c_matrix[w, t] = sym.Max(s_matrix[w, t]-K, 0)\n",
    "            elif t<T: # for t<T option prices can be calculated from prices at t+1 using the implied probability\n",
    "                c_matrix[w, t] = np.e**(-r*T)*(q*c_matrix[w, t+1] + (1-q)*c_matrix[w+1, t+1])\n",
    "    \n",
    "    return s_matrix, c_matrix"
   ]
  },
  {
   "cell_type": "code",
   "execution_count": 3,
   "id": "eecb7e8d",
   "metadata": {},
   "outputs": [
    {
     "name": "stdout",
     "output_type": "stream",
     "text": [
      "This is what the upper triangle matrix of stock prices looks like (T=2):\n"
     ]
    },
    {
     "data": {
      "text/latex": [
       "$\\displaystyle \\left[\\begin{matrix}S & R_{u} S & R_{u}^{2} S\\\\0 & R_{d} S & R_{d} R_{u} S\\\\0 & 0 & R_{d}^{2} S\\end{matrix}\\right]$"
      ],
      "text/plain": [
       "Matrix([\n",
       "[S, R_u*S,  R_u**2*S],\n",
       "[0, R_d*S, R_d*R_u*S],\n",
       "[0,     0,  R_d**2*S]])"
      ]
     },
     "metadata": {},
     "output_type": "display_data"
    },
    {
     "name": "stdout",
     "output_type": "stream",
     "text": [
      "This is what the upper triangle matrix of option prices looks like:\n"
     ]
    },
    {
     "data": {
      "text/latex": [
       "$\\displaystyle \\left[\\begin{matrix}1.0 q \\left(1.0 q \\max\\left(0, - K + R_{u}^{2} S\\right) + 1.0 \\left(1 - q\\right) \\max\\left(0, - K + R_{d} R_{u} S\\right)\\right) + 1.0 \\left(1 - q\\right) \\left(1.0 q \\max\\left(0, - K + R_{d} R_{u} S\\right) + 1.0 \\left(1 - q\\right) \\max\\left(0, - K + R_{d}^{2} S\\right)\\right) & 1.0 q \\max\\left(0, - K + R_{u}^{2} S\\right) + 1.0 \\left(1 - q\\right) \\max\\left(0, - K + R_{d} R_{u} S\\right) & \\max\\left(0, - K + R_{u}^{2} S\\right)\\\\0 & 1.0 q \\max\\left(0, - K + R_{d} R_{u} S\\right) + 1.0 \\left(1 - q\\right) \\max\\left(0, - K + R_{d}^{2} S\\right) & \\max\\left(0, - K + R_{d} R_{u} S\\right)\\\\0 & 0 & \\max\\left(0, - K + R_{d}^{2} S\\right)\\end{matrix}\\right]$"
      ],
      "text/plain": [
       "Matrix([\n",
       "[1.0*q*(1.0*q*Max(0, -K + R_u**2*S) + 1.0*(1 - q)*Max(0, -K + R_d*R_u*S)) + 1.0*(1 - q)*(1.0*q*Max(0, -K + R_d*R_u*S) + 1.0*(1 - q)*Max(0, -K + R_d**2*S)), 1.0*q*Max(0, -K + R_u**2*S) + 1.0*(1 - q)*Max(0, -K + R_d*R_u*S),  Max(0, -K + R_u**2*S)],\n",
       "[                                                                                                                                                        0, 1.0*q*Max(0, -K + R_d*R_u*S) + 1.0*(1 - q)*Max(0, -K + R_d**2*S), Max(0, -K + R_d*R_u*S)],\n",
       "[                                                                                                                                                        0,                                                                0,  Max(0, -K + R_d**2*S)]])"
      ]
     },
     "metadata": {},
     "output_type": "display_data"
    }
   ],
   "source": [
    "# choose some arbitrary value for T\n",
    "T = 2\n",
    "# define variables for symbolic calculations\n",
    "R_u = sym.Symbol(\"R_u\")\n",
    "R_d = sym.Symbol(\"R_d\")\n",
    "S = sym.Symbol(\"S\")\n",
    "K = sym.Symbol(\"K\")\n",
    "q = sym.Symbol(\"q\")\n",
    "\n",
    "s_matrix, c_matrix = price_matrices(T, R_u, R_d, S, K, q)\n",
    "\n",
    "print(\"This is what the upper triangle matrix of stock prices looks like (T={}):\".format(T))\n",
    "display(s_matrix)\n",
    "\n",
    "print(\"This is what the upper triangle matrix of option prices looks like:\")\n",
    "display(c_matrix)"
   ]
  },
  {
   "cell_type": "code",
   "execution_count": 4,
   "id": "22194ef9",
   "metadata": {},
   "outputs": [
    {
     "data": {
      "text/markdown": [
       "Example of what this looks like with $r$=0, $S$=20, $K$=21, $R_u$=1.1, $R_d$=0.9:"
      ],
      "text/plain": [
       "<IPython.core.display.Markdown object>"
      ]
     },
     "metadata": {},
     "output_type": "display_data"
    },
    {
     "name": "stdout",
     "output_type": "stream",
     "text": [
      "Matrix of stock prices:\n"
     ]
    },
    {
     "data": {
      "text/latex": [
       "$\\displaystyle \\left[\\begin{matrix}20.0 & 22.0 & 24.2\\\\0 & 18.0 & 19.8\\\\0 & 0 & 16.2\\end{matrix}\\right]$"
      ],
      "text/plain": [
       "Matrix([\n",
       "[20.0, 22.0, 24.2],\n",
       "[   0, 18.0, 19.8],\n",
       "[   0,    0, 16.2]])"
      ]
     },
     "metadata": {},
     "output_type": "display_data"
    },
    {
     "name": "stdout",
     "output_type": "stream",
     "text": [
      "Matrix of option prices:\n"
     ]
    },
    {
     "data": {
      "text/latex": [
       "$\\displaystyle \\left[\\begin{matrix}0.8 & 1.6 & 3.2\\\\0 & 0 & 0\\\\0 & 0 & 0\\end{matrix}\\right]$"
      ],
      "text/plain": [
       "Matrix([\n",
       "[0.8, 1.6, 3.2],\n",
       "[  0,   0,   0],\n",
       "[  0,   0,   0]])"
      ]
     },
     "metadata": {},
     "output_type": "display_data"
    }
   ],
   "source": [
    "# now this is what these values would look like for explicit values of S, R_d, and R_u:\n",
    "S = 20\n",
    "K = 21\n",
    "R_u = 1.1\n",
    "R_d = 0.9\n",
    "\n",
    "s_matrix, c_matrix = price_matrices(T, R_u, R_d, S, K)\n",
    "\n",
    "display(Markdown(\n",
    "    \"Example of what this looks like with $r$={}, $S$={}, $K$={}, $R_u$={}, $R_d$={}:\".format(\n",
    "        0, S, K, R_u, R_d)))\n",
    "\n",
    "print(\"Matrix of stock prices:\")\n",
    "display(s_matrix)\n",
    "print(\"Matrix of option prices:\")\n",
    "display(c_matrix)"
   ]
  },
  {
   "cell_type": "markdown",
   "id": "9e2cb120",
   "metadata": {},
   "source": [
    "$\\boldsymbol{b}$. Now for the Monte Carlo method: we write a function that generates N sample paths of the price process according to the risk-neutral measure. For each sample path, we take the corresponding final value\n",
    "of the option. As output, let the code plot for $1 ≤ n ≤ N$ the running average of these final values."
   ]
  },
  {
   "cell_type": "code",
   "execution_count": 5,
   "id": "12415c70",
   "metadata": {},
   "outputs": [],
   "source": [
    "def monte_carlo(N, T, R_u, R_d, S, K, r=0):\n",
    "    q = (np.e**(r*T)-R_d)/(R_u-R_d)\n",
    "        \n",
    "    final_values = []\n",
    "    for n in range(N):\n",
    "        val = S # initialize with value S\n",
    "        for t in range(T): # now iteratively go through each time step\n",
    "            R_next = ran.choice([R_u, R_d], p = [q, (1-q)])\n",
    "            val = R_next*val\n",
    "            \n",
    "        # save final value\n",
    "        final_values.append(max(val-K, 0))\n",
    "        \n",
    "    return final_values"
   ]
  },
  {
   "cell_type": "markdown",
   "id": "96b9e59f",
   "metadata": {},
   "source": [
    "$\\boldsymbol{c}$. For $T = 100$, $R_u = 1.02$ and $R_d = .99$, find the price of an at-the-money call option explicitly. Show that the running average from the Monte Carlo method converges to the price obtained explicitly. +\n",
    "$\\boldsymbol{d}$. Plot the results."
   ]
  },
  {
   "cell_type": "code",
   "execution_count": 6,
   "id": "346c30f3",
   "metadata": {},
   "outputs": [
    {
     "name": "stdout",
     "output_type": "stream",
     "text": [
      "Option price at time t=0: 1.12702550770902\n"
     ]
    },
    {
     "data": {
      "image/png": "[encoded data removed]",
      "text/plain": [
       "<Figure size 720x432 with 1 Axes>"
      ]
     },
     "metadata": {},
     "output_type": "display_data"
    }
   ],
   "source": [
    "T = 100\n",
    "R_u = 1.02\n",
    "R_d = 0.99\n",
    "S = K = 20\n",
    "\n",
    "s_matrix, c_matrix = price_matrices(T, R_u, R_d, S, K)\n",
    "# value of the option at the current time\n",
    "print(\"Option price at time t=0:\", c_matrix[0,0])\n",
    "\n",
    "N = 100 \n",
    "\n",
    "vals = monte_carlo(N, T, R_u, R_d, S, K)\n",
    "running_avg = [np.mean(vals[:n]) for n in range(1, N+1)]\n",
    "\n",
    "plt.figure(figsize=(10,6))\n",
    "plt.title(r\"$T={}, R_u={}, R_d={}, S={}, N={}$\".format(T, R_u, R_d, S, N))\n",
    "plt.plot(running_avg, color=\"lightblue\")\n",
    "plt.xlabel(\"Number of samples\")\n",
    "plt.ylabel(\"Average of final option prices\")\n",
    "plt.axhline(c_matrix[0,0], color=\"red\", linestyle=\"dashed\", linewidth=1)\n",
    "plt.show()"
   ]
  },
  {
   "cell_type": "markdown",
   "id": "c4815136",
   "metadata": {},
   "source": [
    "$\\boldsymbol{e}$. Use an animation to represent the results graphically. Use a different\n",
    "style, caption, and legend for the graphs. What is the best way to interpret the results?"
   ]
  },
  {
   "cell_type": "code",
   "execution_count": 12,
   "id": "63174ae9",
   "metadata": {},
   "outputs": [],
   "source": [
    "x = np.array(range(1,1001, 1))\n",
    "y = np.array(running_avg)\n",
    "y = y[:1001]\n",
    "\n",
    "\n",
    "y1 = np.repeat(c_matrix[0,0],1001)"
   ]
  },
  {
   "cell_type": "code",
   "execution_count": 11,
   "id": "a29d45b7",
   "metadata": {},
   "outputs": [
    {
     "ename": "ValueError",
     "evalue": "x and y must have same first dimension, but have shapes (101,) and (100,)",
     "output_type": "error",
     "traceback": [
      "\u001b[1;31m---------------------------------------------------------------------------\u001b[0m",
      "\u001b[1;31mValueError\u001b[0m                                Traceback (most recent call last)",
      "\u001b[1;32mC:\\Users\\DARIAI~1\\AppData\\Local\\Temp/ipykernel_20108/3645016854.py\u001b[0m in \u001b[0;36m<module>\u001b[1;34m\u001b[0m\n\u001b[0;32m     21\u001b[0m \u001b[0mmatplotlib\u001b[0m\u001b[1;33m.\u001b[0m\u001b[0mrcParams\u001b[0m\u001b[1;33m[\u001b[0m\u001b[1;34m'animation.embed_limit'\u001b[0m\u001b[1;33m]\u001b[0m \u001b[1;33m=\u001b[0m \u001b[1;36m2\u001b[0m\u001b[1;33m**\u001b[0m\u001b[1;36m128\u001b[0m\u001b[1;33m\u001b[0m\u001b[1;33m\u001b[0m\u001b[0m\n\u001b[0;32m     22\u001b[0m \u001b[1;32mfrom\u001b[0m \u001b[0mIPython\u001b[0m\u001b[1;33m.\u001b[0m\u001b[0mdisplay\u001b[0m \u001b[1;32mimport\u001b[0m \u001b[0mHTML\u001b[0m\u001b[1;33m\u001b[0m\u001b[1;33m\u001b[0m\u001b[0m\n\u001b[1;32m---> 23\u001b[1;33m \u001b[0mHTML\u001b[0m\u001b[1;33m(\u001b[0m\u001b[0manim\u001b[0m\u001b[1;33m.\u001b[0m\u001b[0mto_jshtml\u001b[0m\u001b[1;33m(\u001b[0m\u001b[1;33m)\u001b[0m\u001b[1;33m)\u001b[0m\u001b[1;33m\u001b[0m\u001b[1;33m\u001b[0m\u001b[0m\n\u001b[0m",
      "\u001b[1;32m~\\Anaconda3\\lib\\site-packages\\matplotlib\\animation.py\u001b[0m in \u001b[0;36mto_jshtml\u001b[1;34m(self, fps, embed_frames, default_mode)\u001b[0m\n\u001b[0;32m   1331\u001b[0m                                     \u001b[0membed_frames\u001b[0m\u001b[1;33m=\u001b[0m\u001b[0membed_frames\u001b[0m\u001b[1;33m,\u001b[0m\u001b[1;33m\u001b[0m\u001b[1;33m\u001b[0m\u001b[0m\n\u001b[0;32m   1332\u001b[0m                                     default_mode=default_mode)\n\u001b[1;32m-> 1333\u001b[1;33m                 \u001b[0mself\u001b[0m\u001b[1;33m.\u001b[0m\u001b[0msave\u001b[0m\u001b[1;33m(\u001b[0m\u001b[0mstr\u001b[0m\u001b[1;33m(\u001b[0m\u001b[0mpath\u001b[0m\u001b[1;33m)\u001b[0m\u001b[1;33m,\u001b[0m \u001b[0mwriter\u001b[0m\u001b[1;33m=\u001b[0m\u001b[0mwriter\u001b[0m\u001b[1;33m)\u001b[0m\u001b[1;33m\u001b[0m\u001b[1;33m\u001b[0m\u001b[0m\n\u001b[0m\u001b[0;32m   1334\u001b[0m                 \u001b[0mself\u001b[0m\u001b[1;33m.\u001b[0m\u001b[0m_html_representation\u001b[0m \u001b[1;33m=\u001b[0m \u001b[0mpath\u001b[0m\u001b[1;33m.\u001b[0m\u001b[0mread_text\u001b[0m\u001b[1;33m(\u001b[0m\u001b[1;33m)\u001b[0m\u001b[1;33m\u001b[0m\u001b[1;33m\u001b[0m\u001b[0m\n\u001b[0;32m   1335\u001b[0m \u001b[1;33m\u001b[0m\u001b[0m\n",
      "\u001b[1;32m~\\Anaconda3\\lib\\site-packages\\matplotlib\\animation.py\u001b[0m in \u001b[0;36msave\u001b[1;34m(self, filename, writer, fps, dpi, codec, bitrate, extra_args, metadata, extra_anim, savefig_kwargs, progress_callback)\u001b[0m\n\u001b[0;32m   1089\u001b[0m                 \u001b[1;32mfor\u001b[0m \u001b[0manim\u001b[0m\u001b[1;33m,\u001b[0m \u001b[0md\u001b[0m \u001b[1;32min\u001b[0m \u001b[0mzip\u001b[0m\u001b[1;33m(\u001b[0m\u001b[0mall_anim\u001b[0m\u001b[1;33m,\u001b[0m \u001b[0mdata\u001b[0m\u001b[1;33m)\u001b[0m\u001b[1;33m:\u001b[0m\u001b[1;33m\u001b[0m\u001b[1;33m\u001b[0m\u001b[0m\n\u001b[0;32m   1090\u001b[0m                     \u001b[1;31m# TODO: See if turning off blit is really necessary\u001b[0m\u001b[1;33m\u001b[0m\u001b[1;33m\u001b[0m\u001b[1;33m\u001b[0m\u001b[0m\n\u001b[1;32m-> 1091\u001b[1;33m                     \u001b[0manim\u001b[0m\u001b[1;33m.\u001b[0m\u001b[0m_draw_next_frame\u001b[0m\u001b[1;33m(\u001b[0m\u001b[0md\u001b[0m\u001b[1;33m,\u001b[0m \u001b[0mblit\u001b[0m\u001b[1;33m=\u001b[0m\u001b[1;32mFalse\u001b[0m\u001b[1;33m)\u001b[0m\u001b[1;33m\u001b[0m\u001b[1;33m\u001b[0m\u001b[0m\n\u001b[0m\u001b[0;32m   1092\u001b[0m                     \u001b[1;32mif\u001b[0m \u001b[0mprogress_callback\u001b[0m \u001b[1;32mis\u001b[0m \u001b[1;32mnot\u001b[0m \u001b[1;32mNone\u001b[0m\u001b[1;33m:\u001b[0m\u001b[1;33m\u001b[0m\u001b[1;33m\u001b[0m\u001b[0m\n\u001b[0;32m   1093\u001b[0m                         \u001b[0mprogress_callback\u001b[0m\u001b[1;33m(\u001b[0m\u001b[0mframe_number\u001b[0m\u001b[1;33m,\u001b[0m \u001b[0mtotal_frames\u001b[0m\u001b[1;33m)\u001b[0m\u001b[1;33m\u001b[0m\u001b[1;33m\u001b[0m\u001b[0m\n",
      "\u001b[1;32m~\\Anaconda3\\lib\\site-packages\\matplotlib\\animation.py\u001b[0m in \u001b[0;36m_draw_next_frame\u001b[1;34m(self, framedata, blit)\u001b[0m\n\u001b[0;32m   1124\u001b[0m         \u001b[1;31m# post- draw, as well as the drawing of the frame itself.\u001b[0m\u001b[1;33m\u001b[0m\u001b[1;33m\u001b[0m\u001b[1;33m\u001b[0m\u001b[0m\n\u001b[0;32m   1125\u001b[0m         \u001b[0mself\u001b[0m\u001b[1;33m.\u001b[0m\u001b[0m_pre_draw\u001b[0m\u001b[1;33m(\u001b[0m\u001b[0mframedata\u001b[0m\u001b[1;33m,\u001b[0m \u001b[0mblit\u001b[0m\u001b[1;33m)\u001b[0m\u001b[1;33m\u001b[0m\u001b[1;33m\u001b[0m\u001b[0m\n\u001b[1;32m-> 1126\u001b[1;33m         \u001b[0mself\u001b[0m\u001b[1;33m.\u001b[0m\u001b[0m_draw_frame\u001b[0m\u001b[1;33m(\u001b[0m\u001b[0mframedata\u001b[0m\u001b[1;33m)\u001b[0m\u001b[1;33m\u001b[0m\u001b[1;33m\u001b[0m\u001b[0m\n\u001b[0m\u001b[0;32m   1127\u001b[0m         \u001b[0mself\u001b[0m\u001b[1;33m.\u001b[0m\u001b[0m_post_draw\u001b[0m\u001b[1;33m(\u001b[0m\u001b[0mframedata\u001b[0m\u001b[1;33m,\u001b[0m \u001b[0mblit\u001b[0m\u001b[1;33m)\u001b[0m\u001b[1;33m\u001b[0m\u001b[1;33m\u001b[0m\u001b[0m\n\u001b[0;32m   1128\u001b[0m \u001b[1;33m\u001b[0m\u001b[0m\n",
      "\u001b[1;32m~\\Anaconda3\\lib\\site-packages\\matplotlib\\animation.py\u001b[0m in \u001b[0;36m_draw_frame\u001b[1;34m(self, framedata)\u001b[0m\n\u001b[0;32m   1718\u001b[0m         \u001b[1;31m# Call the func with framedata and args. If blitting is desired,\u001b[0m\u001b[1;33m\u001b[0m\u001b[1;33m\u001b[0m\u001b[1;33m\u001b[0m\u001b[0m\n\u001b[0;32m   1719\u001b[0m         \u001b[1;31m# func needs to return a sequence of any artists that were modified.\u001b[0m\u001b[1;33m\u001b[0m\u001b[1;33m\u001b[0m\u001b[1;33m\u001b[0m\u001b[0m\n\u001b[1;32m-> 1720\u001b[1;33m         \u001b[0mself\u001b[0m\u001b[1;33m.\u001b[0m\u001b[0m_drawn_artists\u001b[0m \u001b[1;33m=\u001b[0m \u001b[0mself\u001b[0m\u001b[1;33m.\u001b[0m\u001b[0m_func\u001b[0m\u001b[1;33m(\u001b[0m\u001b[0mframedata\u001b[0m\u001b[1;33m,\u001b[0m \u001b[1;33m*\u001b[0m\u001b[0mself\u001b[0m\u001b[1;33m.\u001b[0m\u001b[0m_args\u001b[0m\u001b[1;33m)\u001b[0m\u001b[1;33m\u001b[0m\u001b[1;33m\u001b[0m\u001b[0m\n\u001b[0m\u001b[0;32m   1721\u001b[0m \u001b[1;33m\u001b[0m\u001b[0m\n\u001b[0;32m   1722\u001b[0m         \u001b[1;32mif\u001b[0m \u001b[0mself\u001b[0m\u001b[1;33m.\u001b[0m\u001b[0m_blit\u001b[0m\u001b[1;33m:\u001b[0m\u001b[1;33m\u001b[0m\u001b[1;33m\u001b[0m\u001b[0m\n",
      "\u001b[1;32mC:\\Users\\DARIAI~1\\AppData\\Local\\Temp/ipykernel_20108/3645016854.py\u001b[0m in \u001b[0;36manimate\u001b[1;34m(i)\u001b[0m\n\u001b[0;32m      7\u001b[0m \u001b[1;32mdef\u001b[0m \u001b[0manimate\u001b[0m\u001b[1;33m(\u001b[0m\u001b[0mi\u001b[0m\u001b[1;33m)\u001b[0m\u001b[1;33m:\u001b[0m\u001b[1;33m\u001b[0m\u001b[1;33m\u001b[0m\u001b[0m\n\u001b[0;32m      8\u001b[0m     \u001b[0max\u001b[0m\u001b[1;33m.\u001b[0m\u001b[0mcla\u001b[0m\u001b[1;33m(\u001b[0m\u001b[1;33m)\u001b[0m \u001b[1;31m# clear the previous image\u001b[0m\u001b[1;33m\u001b[0m\u001b[1;33m\u001b[0m\u001b[0m\n\u001b[1;32m----> 9\u001b[1;33m     \u001b[0max\u001b[0m\u001b[1;33m.\u001b[0m\u001b[0mplot\u001b[0m\u001b[1;33m(\u001b[0m\u001b[0mx\u001b[0m\u001b[1;33m[\u001b[0m\u001b[1;33m:\u001b[0m\u001b[0mi\u001b[0m\u001b[1;33m]\u001b[0m\u001b[1;33m,\u001b[0m \u001b[0my\u001b[0m\u001b[1;33m[\u001b[0m\u001b[1;33m:\u001b[0m\u001b[0mi\u001b[0m\u001b[1;33m]\u001b[0m\u001b[1;33m,\u001b[0m \u001b[0mcolor\u001b[0m\u001b[1;33m=\u001b[0m\u001b[1;34m\"lightblue\"\u001b[0m\u001b[1;33m)\u001b[0m\u001b[1;31m# plot the line\u001b[0m\u001b[1;33m\u001b[0m\u001b[1;33m\u001b[0m\u001b[0m\n\u001b[0m\u001b[0;32m     10\u001b[0m     \u001b[0max\u001b[0m\u001b[1;33m.\u001b[0m\u001b[0mplot\u001b[0m\u001b[1;33m(\u001b[0m\u001b[0mx\u001b[0m\u001b[1;33m[\u001b[0m\u001b[1;33m:\u001b[0m\u001b[0mi\u001b[0m\u001b[1;33m]\u001b[0m\u001b[1;33m,\u001b[0m \u001b[0my1\u001b[0m\u001b[1;33m[\u001b[0m\u001b[1;33m:\u001b[0m\u001b[0mi\u001b[0m\u001b[1;33m]\u001b[0m\u001b[1;33m,\u001b[0m \u001b[0mcolor\u001b[0m\u001b[1;33m=\u001b[0m\u001b[1;34m\"red\"\u001b[0m\u001b[1;33m,\u001b[0m \u001b[0mlinestyle\u001b[0m\u001b[1;33m=\u001b[0m\u001b[1;34m\"dashed\"\u001b[0m\u001b[1;33m,\u001b[0m \u001b[0mlinewidth\u001b[0m\u001b[1;33m=\u001b[0m\u001b[1;36m1\u001b[0m\u001b[1;33m)\u001b[0m\u001b[1;33m\u001b[0m\u001b[1;33m\u001b[0m\u001b[0m\n\u001b[0;32m     11\u001b[0m     \u001b[0max\u001b[0m\u001b[1;33m.\u001b[0m\u001b[0mset_xlim\u001b[0m\u001b[1;33m(\u001b[0m\u001b[1;33m[\u001b[0m\u001b[0mx0\u001b[0m\u001b[1;33m,\u001b[0m \u001b[0mtfinal\u001b[0m\u001b[1;33m]\u001b[0m\u001b[1;33m)\u001b[0m \u001b[1;31m# fix the x axis\u001b[0m\u001b[1;33m\u001b[0m\u001b[1;33m\u001b[0m\u001b[0m\n",
      "\u001b[1;32m~\\Anaconda3\\lib\\site-packages\\matplotlib\\axes\\_axes.py\u001b[0m in \u001b[0;36mplot\u001b[1;34m(self, scalex, scaley, data, *args, **kwargs)\u001b[0m\n\u001b[0;32m   1630\u001b[0m         \"\"\"\n\u001b[0;32m   1631\u001b[0m         \u001b[0mkwargs\u001b[0m \u001b[1;33m=\u001b[0m \u001b[0mcbook\u001b[0m\u001b[1;33m.\u001b[0m\u001b[0mnormalize_kwargs\u001b[0m\u001b[1;33m(\u001b[0m\u001b[0mkwargs\u001b[0m\u001b[1;33m,\u001b[0m \u001b[0mmlines\u001b[0m\u001b[1;33m.\u001b[0m\u001b[0mLine2D\u001b[0m\u001b[1;33m)\u001b[0m\u001b[1;33m\u001b[0m\u001b[1;33m\u001b[0m\u001b[0m\n\u001b[1;32m-> 1632\u001b[1;33m         \u001b[0mlines\u001b[0m \u001b[1;33m=\u001b[0m \u001b[1;33m[\u001b[0m\u001b[1;33m*\u001b[0m\u001b[0mself\u001b[0m\u001b[1;33m.\u001b[0m\u001b[0m_get_lines\u001b[0m\u001b[1;33m(\u001b[0m\u001b[1;33m*\u001b[0m\u001b[0margs\u001b[0m\u001b[1;33m,\u001b[0m \u001b[0mdata\u001b[0m\u001b[1;33m=\u001b[0m\u001b[0mdata\u001b[0m\u001b[1;33m,\u001b[0m \u001b[1;33m**\u001b[0m\u001b[0mkwargs\u001b[0m\u001b[1;33m)\u001b[0m\u001b[1;33m]\u001b[0m\u001b[1;33m\u001b[0m\u001b[1;33m\u001b[0m\u001b[0m\n\u001b[0m\u001b[0;32m   1633\u001b[0m         \u001b[1;32mfor\u001b[0m \u001b[0mline\u001b[0m \u001b[1;32min\u001b[0m \u001b[0mlines\u001b[0m\u001b[1;33m:\u001b[0m\u001b[1;33m\u001b[0m\u001b[1;33m\u001b[0m\u001b[0m\n\u001b[0;32m   1634\u001b[0m             \u001b[0mself\u001b[0m\u001b[1;33m.\u001b[0m\u001b[0madd_line\u001b[0m\u001b[1;33m(\u001b[0m\u001b[0mline\u001b[0m\u001b[1;33m)\u001b[0m\u001b[1;33m\u001b[0m\u001b[1;33m\u001b[0m\u001b[0m\n",
      "\u001b[1;32m~\\Anaconda3\\lib\\site-packages\\matplotlib\\axes\\_base.py\u001b[0m in \u001b[0;36m__call__\u001b[1;34m(self, data, *args, **kwargs)\u001b[0m\n\u001b[0;32m    310\u001b[0m                 \u001b[0mthis\u001b[0m \u001b[1;33m+=\u001b[0m \u001b[0margs\u001b[0m\u001b[1;33m[\u001b[0m\u001b[1;36m0\u001b[0m\u001b[1;33m]\u001b[0m\u001b[1;33m,\u001b[0m\u001b[1;33m\u001b[0m\u001b[1;33m\u001b[0m\u001b[0m\n\u001b[0;32m    311\u001b[0m                 \u001b[0margs\u001b[0m \u001b[1;33m=\u001b[0m \u001b[0margs\u001b[0m\u001b[1;33m[\u001b[0m\u001b[1;36m1\u001b[0m\u001b[1;33m:\u001b[0m\u001b[1;33m]\u001b[0m\u001b[1;33m\u001b[0m\u001b[1;33m\u001b[0m\u001b[0m\n\u001b[1;32m--> 312\u001b[1;33m             \u001b[1;32myield\u001b[0m \u001b[1;32mfrom\u001b[0m \u001b[0mself\u001b[0m\u001b[1;33m.\u001b[0m\u001b[0m_plot_args\u001b[0m\u001b[1;33m(\u001b[0m\u001b[0mthis\u001b[0m\u001b[1;33m,\u001b[0m \u001b[0mkwargs\u001b[0m\u001b[1;33m)\u001b[0m\u001b[1;33m\u001b[0m\u001b[1;33m\u001b[0m\u001b[0m\n\u001b[0m\u001b[0;32m    313\u001b[0m \u001b[1;33m\u001b[0m\u001b[0m\n\u001b[0;32m    314\u001b[0m     \u001b[1;32mdef\u001b[0m \u001b[0mget_next_color\u001b[0m\u001b[1;33m(\u001b[0m\u001b[0mself\u001b[0m\u001b[1;33m)\u001b[0m\u001b[1;33m:\u001b[0m\u001b[1;33m\u001b[0m\u001b[1;33m\u001b[0m\u001b[0m\n",
      "\u001b[1;32m~\\Anaconda3\\lib\\site-packages\\matplotlib\\axes\\_base.py\u001b[0m in \u001b[0;36m_plot_args\u001b[1;34m(self, tup, kwargs, return_kwargs)\u001b[0m\n\u001b[0;32m    496\u001b[0m \u001b[1;33m\u001b[0m\u001b[0m\n\u001b[0;32m    497\u001b[0m         \u001b[1;32mif\u001b[0m \u001b[0mx\u001b[0m\u001b[1;33m.\u001b[0m\u001b[0mshape\u001b[0m\u001b[1;33m[\u001b[0m\u001b[1;36m0\u001b[0m\u001b[1;33m]\u001b[0m \u001b[1;33m!=\u001b[0m \u001b[0my\u001b[0m\u001b[1;33m.\u001b[0m\u001b[0mshape\u001b[0m\u001b[1;33m[\u001b[0m\u001b[1;36m0\u001b[0m\u001b[1;33m]\u001b[0m\u001b[1;33m:\u001b[0m\u001b[1;33m\u001b[0m\u001b[1;33m\u001b[0m\u001b[0m\n\u001b[1;32m--> 498\u001b[1;33m             raise ValueError(f\"x and y must have same first dimension, but \"\n\u001b[0m\u001b[0;32m    499\u001b[0m                              f\"have shapes {x.shape} and {y.shape}\")\n\u001b[0;32m    500\u001b[0m         \u001b[1;32mif\u001b[0m \u001b[0mx\u001b[0m\u001b[1;33m.\u001b[0m\u001b[0mndim\u001b[0m \u001b[1;33m>\u001b[0m \u001b[1;36m2\u001b[0m \u001b[1;32mor\u001b[0m \u001b[0my\u001b[0m\u001b[1;33m.\u001b[0m\u001b[0mndim\u001b[0m \u001b[1;33m>\u001b[0m \u001b[1;36m2\u001b[0m\u001b[1;33m:\u001b[0m\u001b[1;33m\u001b[0m\u001b[1;33m\u001b[0m\u001b[0m\n",
      "\u001b[1;31mValueError\u001b[0m: x and y must have same first dimension, but have shapes (101,) and (100,)"
     ]
    },
    {
     "data": {
      "image/png": "[encoded data removed]",
      "text/plain": [
       "<Figure size 720x432 with 1 Axes>"
      ]
     },
     "metadata": {},
     "output_type": "display_data"
    }
   ],
   "source": [
    "tfinal = 1001\n",
    "x0 = 0\n",
    "# animation line plot example\n",
    "\n",
    "fig, ax = plt.subplots(1, 1, figsize = (10, 6))\n",
    "\n",
    "def animate(i):\n",
    "    ax.cla() # clear the previous image\n",
    "    ax.plot(x[:i], y[:i], color=\"lightblue\")# plot the line\n",
    "    ax.plot(x[:i], y1[:i], color=\"red\", linestyle=\"dashed\", linewidth=1)\n",
    "    ax.set_xlim([x0, tfinal]) # fix the x axis\n",
    "    ax.set_ylim([1.1*np.min(y), 1.1*np.max(y)]) # fix the y axis\n",
    "    \n",
    "    ax.set_xlabel(\"Number of samples\")\n",
    "    ax.set_ylabel(\"Average of final option prices\")\n",
    "    ax.set_title(r\"$T={}, R_u={}, R_d={}, S={}, N={}$\".format(T, R_u, R_d, S, N))\n",
    "\n",
    "anim = animation.FuncAnimation(fig, animate, frames = len(x) + 1, interval = 10, blit = False)\n",
    "\n",
    "import matplotlib\n",
    "matplotlib.rcParams['animation.embed_limit'] = 2**128\n",
    "from IPython.display import HTML\n",
    "HTML(anim.to_jshtml())"
   ]
  },
  {
   "cell_type": "code",
   "execution_count": null,
   "id": "2767d528",
   "metadata": {},
   "outputs": [],
   "source": []
  }
 ],
 "metadata": {
  "kernelspec": {
   "display_name": "Python 3 (ipykernel)",
   "language": "python",
   "name": "python3"
  },
  "language_info": {
   "codemirror_mode": {
    "name": "ipython",
    "version": 3
   },
   "file_extension": ".py",
   "mimetype": "text/x-python",
   "name": "python",
   "nbconvert_exporter": "python",
   "pygments_lexer": "ipython3",
   "version": "3.7.4"
  }
 },
 "nbformat": 4,
 "nbformat_minor": 5
}
